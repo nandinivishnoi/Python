{
 "cells": [
  {
   "cell_type": "code",
   "execution_count": 11,
   "id": "b277cbbc-f40e-450c-ae44-feaab44be268",
   "metadata": {},
   "outputs": [],
   "source": [
    "import pandas as pd"
   ]
  },
  {
   "cell_type": "code",
   "execution_count": 12,
   "id": "16ac646d-1a97-4636-b45d-edccbd26e8d0",
   "metadata": {},
   "outputs": [
    {
     "name": "stdout",
     "output_type": "stream",
     "text": [
      "['A', 'B', 'C', 'D']\n"
     ]
    }
   ],
   "source": [
    "#making a series\n",
    "products=['A','B','C','D']\n",
    "print(products)"
   ]
  },
  {
   "cell_type": "code",
   "execution_count": 14,
   "id": "7119a89c-b31e-4b63-8e50-b98879f44fcb",
   "metadata": {},
   "outputs": [
    {
     "data": {
      "text/plain": [
       "0    A\n",
       "1    B\n",
       "2    C\n",
       "3    D\n",
       "dtype: object"
      ]
     },
     "execution_count": 14,
     "metadata": {},
     "output_type": "execute_result"
    }
   ],
   "source": [
    "product_catagories= pd.Series(products)\n",
    "product_catagories"
   ]
  },
  {
   "cell_type": "code",
   "execution_count": 15,
   "id": "c3fa549b-5cbd-4c9e-b426-2644b2ba5e58",
   "metadata": {},
   "outputs": [
    {
     "data": {
      "text/plain": [
       "pandas.core.series.Series"
      ]
     },
     "execution_count": 15,
     "metadata": {},
     "output_type": "execute_result"
    }
   ],
   "source": [
    "#to identify type\n",
    "type(product_catagories)"
   ]
  },
  {
   "cell_type": "code",
   "execution_count": null,
   "id": "44e75dda-6ecf-4e8a-b3a2-167c770e4619",
   "metadata": {},
   "outputs": [],
   "source": []
  }
 ],
 "metadata": {
  "kernelspec": {
   "display_name": "Python 3 (ipykernel)",
   "language": "python",
   "name": "python3"
  },
  "language_info": {
   "codemirror_mode": {
    "name": "ipython",
    "version": 3
   },
   "file_extension": ".py",
   "mimetype": "text/x-python",
   "name": "python",
   "nbconvert_exporter": "python",
   "pygments_lexer": "ipython3",
   "version": "3.13.0"
  }
 },
 "nbformat": 4,
 "nbformat_minor": 5
}
