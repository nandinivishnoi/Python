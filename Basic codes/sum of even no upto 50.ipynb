{
 "cells": [
  {
   "cell_type": "code",
   "execution_count": 19,
   "id": "c2098d22-f373-4ef6-95ed-b6e1ad6121be",
   "metadata": {},
   "outputs": [
    {
     "name": "stdout",
     "output_type": "stream",
     "text": [
      "The sum of all even number till 50 is:  650\n"
     ]
    }
   ],
   "source": [
    "sums=0\n",
    "for i in range(0,51):\n",
    "    if(i%2==0):\n",
    "        sums+=i\n",
    "print(\"The sum of all even number till 50 is: \",sums)"
   ]
  },
  {
   "cell_type": "code",
   "execution_count": null,
   "id": "57d5d5c7-eb06-4080-8d2e-1ae1371c8aa5",
   "metadata": {},
   "outputs": [],
   "source": []
  }
 ],
 "metadata": {
  "kernelspec": {
   "display_name": "Python 3 (ipykernel)",
   "language": "python",
   "name": "python3"
  },
  "language_info": {
   "codemirror_mode": {
    "name": "ipython",
    "version": 3
   },
   "file_extension": ".py",
   "mimetype": "text/x-python",
   "name": "python",
   "nbconvert_exporter": "python",
   "pygments_lexer": "ipython3",
   "version": "3.13.0"
  }
 },
 "nbformat": 4,
 "nbformat_minor": 5
}
