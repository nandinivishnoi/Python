{
 "cells": [
  {
   "cell_type": "code",
   "execution_count": 6,
   "id": "849b16a3-5fe9-41cf-9c29-5571b6a89025",
   "metadata": {},
   "outputs": [
    {
     "data": {
      "text/plain": [
       "4"
      ]
     },
     "execution_count": 6,
     "metadata": {},
     "output_type": "execute_result"
    }
   ],
   "source": [
    "def multiplication_by_2(x):\n",
    "    return x*2\n",
    "multiplication_by_2(2)    "
   ]
  },
  {
   "cell_type": "code",
   "execution_count": 9,
   "id": "fc91459f-95b3-445d-a470-bd72117e5ac0",
   "metadata": {},
   "outputs": [
    {
     "data": {
      "text/plain": [
       "5.5"
      ]
     },
     "execution_count": 9,
     "metadata": {},
     "output_type": "execute_result"
    }
   ],
   "source": [
    "def division_by_2(x):\n",
    "    return x/2\n",
    "division_by_2(11)    "
   ]
  },
  {
   "cell_type": "code",
   "execution_count": 11,
   "id": "0b1ca400-749f-4b74-b100-77d58d9331fc",
   "metadata": {},
   "outputs": [
    {
     "data": {
      "text/plain": [
       "'output'"
      ]
     },
     "execution_count": 11,
     "metadata": {},
     "output_type": "execute_result"
    }
   ],
   "source": [
    "#different way to return a function\n",
    "#return can only be used once in a function. if we tend to use it another time it will only return the output of the \n",
    "#first return\n",
    "\n",
    "def multiplication_by_2(x):\n",
    "    result = x*2\n",
    "    return \"output\"\n",
    "    return result\n",
    "multiplication_by_2(2)    "
   ]
  },
  {
   "cell_type": "code",
   "execution_count": 12,
   "id": "a131047c-0f72-479a-a3e5-b29e10a1f204",
   "metadata": {},
   "outputs": [
    {
     "name": "stdout",
     "output_type": "stream",
     "text": [
      "outcome\n"
     ]
    },
    {
     "data": {
      "text/plain": [
       "4"
      ]
     },
     "execution_count": 12,
     "metadata": {},
     "output_type": "execute_result"
    }
   ],
   "source": [
    "#different way to return a function\n",
    "#return can only be used once in a function. if we tend to use it another time it will only return the output of the \n",
    "#first return therefore we use print.\n",
    "def multiplication_by_2(x):\n",
    "    result = x*2\n",
    "    print(\"outcome\")\n",
    "    return result\n",
    "multiplication_by_2(2)    "
   ]
  },
  {
   "cell_type": "code",
   "execution_count": 38,
   "id": "3229f971-19bd-40bd-8707-ade601be60a3",
   "metadata": {},
   "outputs": [
    {
     "data": {
      "text/plain": [
       "(200, 300)"
      ]
     },
     "execution_count": 38,
     "metadata": {},
     "output_type": "execute_result"
    }
   ],
   "source": [
    "#funtion within funtion\n",
    "def wage(w_hours):\n",
    "    return w_hours*25\n",
    "def with_bonus(w_hours):\n",
    "    return wage(w_hours)+50\n",
    "wage(8) , with_bonus(10)"
   ]
  },
  {
   "cell_type": "code",
   "execution_count": 37,
   "id": "6c17afc5-b00b-45cb-b4ca-ef7fe7331f69",
   "metadata": {},
   "outputs": [
    {
     "name": "stdout",
     "output_type": "stream",
     "text": [
      "save more\n"
     ]
    }
   ],
   "source": [
    "#conditions within the function\n",
    "def add_10(x):\n",
    "    if(x>=100):\n",
    "        x= x+10\n",
    "        return x\n",
    "    else:\n",
    "        print(\"save more\")\n",
    "add_10(50)        "
   ]
  },
  {
   "cell_type": "code",
   "execution_count": 34,
   "id": "144e139d-71cf-42cc-bd7d-448b151217e6",
   "metadata": {},
   "outputs": [
    {
     "name": "stdout",
     "output_type": "stream",
     "text": [
      "Value of a is:  10\n",
      "Value of b is:  20\n",
      "Value of c is:  40\n",
      "Value of a is:  10\n",
      "Value of b is:  20\n",
      "Value of c is:  40\n"
     ]
    },
    {
     "data": {
      "text/plain": [
       "810"
      ]
     },
     "execution_count": 34,
     "metadata": {},
     "output_type": "execute_result"
    }
   ],
   "source": [
    "#more than one parameter in a function\n",
    "def substract_bc(a,b,c):\n",
    "    print(\"Value of a is: \",a)\n",
    "    print(\"Value of b is: \",b)\n",
    "    print(\"Value of c is: \",c)\n",
    "    result = a+b*c\n",
    "    return result\n",
    "substract_bc(10,20,40) \n",
    "#0r\n",
    "substract_bc(a=10,b=20,c=40)"
   ]
  },
  {
   "cell_type": "code",
   "execution_count": 1,
   "id": "4ac838dd-6c70-4f07-bb46-0b07b651f2c0",
   "metadata": {},
   "outputs": [
    {
     "data": {
      "text/plain": [
       "19"
      ]
     },
     "execution_count": 1,
     "metadata": {},
     "output_type": "execute_result"
    }
   ],
   "source": [
    "def distance_from_zero(x):\n",
    "    if(type(x) == str):\n",
    "       print(\"Not possible\")\n",
    "    else:\n",
    "        return abs(x)\n",
    "distance_from_zero(-19)"
   ]
  },
  {
   "cell_type": "code",
   "execution_count": 1,
   "id": "825b2c9c-e252-4fa7-a996-051b3ed69974",
   "metadata": {},
   "outputs": [
    {
     "data": {
      "text/plain": [
       "{'meal_1': 'Spaghetti',\n",
       " 'meal_2': 'Fries',\n",
       " 'meal_3': 'cheeseburger',\n",
       " 'meal_4': 'Lasagna',\n",
       " 'meal_5': 'soup',\n",
       " 'meal_6': ['Pancakes', 'Ice-cream', 'Tiramisu']}"
      ]
     },
     "execution_count": 1,
     "metadata": {},
     "output_type": "execute_result"
    }
   ],
   "source": [
    "#DICTIONARY\n",
    "Menu = {'meal_1':'Spaghetti', 'meal_2':'Fries', 'meal_3':'Hamburger', 'meal_4':'Lasagna'}\n",
    "Menu['meal_2'] #printing 2nd meal\n",
    "Menu['meal_5']=\"soup\" #adding meal 5\n",
    "Menu['meal_3']=\"cheeseburger\"\n",
    "Dessert= ['Pancakes', 'Ice-cream', 'Tiramisu']\n",
    "Menu['meal_6']= Dessert\n",
    "Menu"
   ]
  },
  {
   "cell_type": "code",
   "execution_count": 6,
   "id": "dfdac922-82e9-4327-8beb-96492e37a5bb",
   "metadata": {},
   "outputs": [
    {
     "name": "stdout",
     "output_type": "stream",
     "text": [
      "1,3,5,7,9,11,13,15,17,19,21,23,25,27,29,"
     ]
    }
   ],
   "source": [
    "x=1\n",
    "while(x<=30):\n",
    "    print(x,end=\",\")\n",
    "    x=x+2"
   ]
  },
  {
   "cell_type": "code",
   "execution_count": 9,
   "id": "7d56198d-5fd4-45d7-9c9f-87bf76649d59",
   "metadata": {},
   "outputs": [
    {
     "data": {
      "text/plain": [
       "[0, 1, 2, 3, 4, 5, 6, 7, 8, 9, 10, 11, 12, 13, 14, 15, 16, 17, 18, 19]"
      ]
     },
     "execution_count": 9,
     "metadata": {},
     "output_type": "execute_result"
    }
   ],
   "source": [
    "list(range(20))"
   ]
  },
  {
   "cell_type": "code",
   "execution_count": 12,
   "id": "0b2b20fa-07d9-4953-8a1a-c7fd76845997",
   "metadata": {},
   "outputs": [
    {
     "data": {
      "text/plain": [
       "[0, 2, 4, 6, 8, 10, 12, 14, 16, 18, 20, 22, 24, 26, 28, 30]"
      ]
     },
     "execution_count": 12,
     "metadata": {},
     "output_type": "execute_result"
    }
   ],
   "source": [
    "list(range(0,31,2))"
   ]
  },
  {
   "cell_type": "code",
   "execution_count": 14,
   "id": "ead232fb-7997-4ec0-837c-8eb3833f829b",
   "metadata": {},
   "outputs": [
    {
     "name": "stdout",
     "output_type": "stream",
     "text": [
      "2 4 6 8 10 12 14 16 18 20 "
     ]
    }
   ],
   "source": [
    "#range with loops and conditional statements\n",
    "for i in range(1,11):\n",
    "    print(2*i,end=\" \")"
   ]
  },
  {
   "cell_type": "code",
   "execution_count": 5,
   "id": "d43fd872-9f41-44b5-bc34-dcdf2a6cc1aa",
   "metadata": {},
   "outputs": [
    {
     "name": "stdout",
     "output_type": "stream",
     "text": [
      "1 Even 3 Even 5 Even 7 Even 9 Even 11 Even 13 Even 15 Even 17 Even 19 Even 21 Even 23 Even 25 Even 27 Even 29 Even "
     ]
    }
   ],
   "source": [
    "#printing odd numbers with range\n",
    "for i in range(1,31):\n",
    "    if(i%2==0):\n",
    "        print(\"Even\",end=\" \")\n",
    "    else:\n",
    "        print(i,end=\" \")"
   ]
  },
  {
   "cell_type": "code",
   "execution_count": 34,
   "id": "d7a370cc-cbd1-4b9d-81c2-90fae52aac06",
   "metadata": {},
   "outputs": [
    {
     "data": {
      "text/plain": [
       "2"
      ]
     },
     "execution_count": 34,
     "metadata": {},
     "output_type": "execute_result"
    }
   ],
   "source": [
    "nums = [1, 35, 12, 24, 31, 51, 70, 100]\n",
    "def count(num):\n",
    "    temp= 0\n",
    "    index = 0\n",
    "    while index < len(nums):\n",
    "        if nums[index] < 20:\n",
    "            temp += 1\n",
    "        index += 1   \n",
    "    return temp\n",
    "count(nums)"
   ]
  },
  {
   "cell_type": "code",
   "execution_count": 46,
   "id": "fa0924cd-67b3-4b28-ba6a-cb79d0b88ef1",
   "metadata": {},
   "outputs": [
    {
     "name": "stdout",
     "output_type": "stream",
     "text": [
      "74\n"
     ]
    }
   ],
   "source": [
    "#loops in dictionary\n",
    "prices={\n",
    "    \"spaghetti\":4,\n",
    "    \"lasagna\":5,\n",
    "    \"hamburger\":2\n",
    "}\n",
    "quantity={\n",
    "    \"spaghetti\":6,\n",
    "    \"lasagna\":10,\n",
    "    \"hamburger\":0\n",
    "}\n",
    "\n",
    "money_spent=0\n",
    "for i in prices:\n",
    "    money_spent=prices[i]*quantity[i]+money_spent\n",
    "print (money_spent)\n",
    "    "
   ]
  },
  {
   "cell_type": "code",
   "execution_count": 55,
   "id": "7d1ac9cd-b6a3-49fb-a033-5dc6f4ba2ae4",
   "metadata": {},
   "outputs": [
    {
     "name": "stdout",
     "output_type": "stream",
     "text": [
      "50\n"
     ]
    }
   ],
   "source": [
    "#loops in dictionary\n",
    "prices={\n",
    "    \"spaghetti\":4,\n",
    "    \"lasagna\":5,\n",
    "    \"hamburger\":2\n",
    "}\n",
    "quantity={\n",
    "    \"spaghetti\":6,\n",
    "    \"lasagna\":10,\n",
    "    \"hamburger\":0\n",
    "}\n",
    "\n",
    "money_spent=0\n",
    "for i in quantity:\n",
    "    if(prices[i]>=5):\n",
    "         money_spent=prices[i]*quantity[i]+money_spent\n",
    "    else:\n",
    "        money_spent=money_spent\n",
    "print(money_spent)"
   ]
  },
  {
   "cell_type": "code",
   "execution_count": 16,
   "id": "118a033b-43b5-4500-98e0-4dbbbc38a72c",
   "metadata": {},
   "outputs": [
    {
     "name": "stdout",
     "output_type": "stream",
     "text": [
      "['A', 'B', 'C', 'D']\n"
     ]
    }
   ],
   "source": [
    "#pandas\n",
    "import pandas as pd\n",
    "product=['A','B','C','D']\n",
    "print(product)"
   ]
  },
  {
   "cell_type": "code",
   "execution_count": 17,
   "id": "2232de4d-1e51-4c13-95a0-799dc12c8c7f",
   "metadata": {},
   "outputs": [
    {
     "data": {
      "text/plain": [
       "list"
      ]
     },
     "execution_count": 17,
     "metadata": {},
     "output_type": "execute_result"
    }
   ],
   "source": [
    "type(product)"
   ]
  },
  {
   "cell_type": "code",
   "execution_count": null,
   "id": "929c3bd8-eec3-4ebe-bf11-47056168c65f",
   "metadata": {},
   "outputs": [],
   "source": []
  },
  {
   "cell_type": "code",
   "execution_count": null,
   "id": "596cba3e-cba2-4a4e-9790-df8b071a2fb9",
   "metadata": {},
   "outputs": [],
   "source": []
  }
 ],
 "metadata": {
  "kernelspec": {
   "display_name": "Python 3 (ipykernel)",
   "language": "python",
   "name": "python3"
  },
  "language_info": {
   "codemirror_mode": {
    "name": "ipython",
    "version": 3
   },
   "file_extension": ".py",
   "mimetype": "text/x-python",
   "name": "python",
   "nbconvert_exporter": "python",
   "pygments_lexer": "ipython3",
   "version": "3.11.7"
  }
 },
 "nbformat": 4,
 "nbformat_minor": 5
}
